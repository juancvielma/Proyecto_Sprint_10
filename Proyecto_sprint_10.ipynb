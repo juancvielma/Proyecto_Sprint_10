{
 "cells": [
  {
   "cell_type": "markdown",
   "id": "7c447d5c",
   "metadata": {},
   "source": [
    "### 1. Cargar y preparar los datos"
   ]
  },
  {
   "cell_type": "code",
   "execution_count": 21,
   "id": "9e39ca76",
   "metadata": {},
   "outputs": [],
   "source": [
    "import pandas as pd\n",
    "from sklearn.model_selection import train_test_split\n",
    "from sklearn.preprocessing import StandardScaler\n",
    "from sklearn.metrics import classification_report\n",
    "from sklearn.metrics import confusion_matrix\n",
    "\n",
    "\n",
    "\n",
    "# Cargar datos\n",
    "data = pd.read_csv('/Users/juanvielmapereyra/NOTEBOOKS/SPRINT 10/SPRINT_10/Churn.csv')\n",
    "\n",
    "# Rellenar valores faltantes\n",
    "data['Tenure'] = data['Tenure'].fillna(data['Tenure'].median())\n",
    "\n",
    "# Eliminar columnas innecesarias\n",
    "data = data.drop(['RowNumber', 'CustomerId', 'Surname'], axis=1)\n",
    "\n",
    "# Codificar variables categóricas\n",
    "data = pd.get_dummies(data, drop_first=True)\n",
    "\n",
    "# Separar objetivo y características\n",
    "target = data['Exited']\n",
    "features = data.drop('Exited', axis=1)\n",
    "\n",
    "# Dividir datos en entrenamiento y prueba\n",
    "features_train, features_test, target_train, target_test = train_test_split(\n",
    "    features, target, test_size=0.25, random_state=12345\n",
    ")\n",
    "\n",
    "# Estandarizar características numéricas\n",
    "scaler = StandardScaler()\n",
    "features_train = pd.DataFrame(scaler.fit_transform(features_train), index=features_train.index, columns=features.columns)\n",
    "features_test = pd.DataFrame(scaler.transform(features_test), index=features_test.index, columns=features.columns)\n"
   ]
  },
  {
   "cell_type": "markdown",
   "id": "c28c3d10",
   "metadata": {},
   "source": [
    "### Procedimiento de preparación:\n",
    "\n",
    "Eliminar columnas que no aportan valor al modelo (RowNumber, CustomerId, Surname).\n",
    "\n",
    "Codificar variables categóricas (Geography, Gender → usar OHE para Geography y 0/1 para Gender si es posible).\n",
    "\n",
    "Estandarizar las características numéricas."
   ]
  },
  {
   "cell_type": "code",
   "execution_count": 22,
   "id": "7cf5def2",
   "metadata": {},
   "outputs": [
    {
     "name": "stdout",
     "output_type": "stream",
     "text": [
      "Requirement already satisfied: scikit-learn in /Users/juanvielmapereyra/NOTEBOOKS/projects/data_project_sprint6/vehicles_env/lib/python3.12/site-packages (1.6.1)\n",
      "Requirement already satisfied: numpy>=1.19.5 in /Users/juanvielmapereyra/NOTEBOOKS/projects/data_project_sprint6/vehicles_env/lib/python3.12/site-packages (from scikit-learn) (2.1.1)\n",
      "Requirement already satisfied: scipy>=1.6.0 in /Users/juanvielmapereyra/NOTEBOOKS/projects/data_project_sprint6/vehicles_env/lib/python3.12/site-packages (from scikit-learn) (1.14.1)\n",
      "Requirement already satisfied: joblib>=1.2.0 in /Users/juanvielmapereyra/NOTEBOOKS/projects/data_project_sprint6/vehicles_env/lib/python3.12/site-packages (from scikit-learn) (1.5.0)\n",
      "Requirement already satisfied: threadpoolctl>=3.1.0 in /Users/juanvielmapereyra/NOTEBOOKS/projects/data_project_sprint6/vehicles_env/lib/python3.12/site-packages (from scikit-learn) (3.6.0)\n",
      "\n",
      "\u001b[1m[\u001b[0m\u001b[34;49mnotice\u001b[0m\u001b[1;39;49m]\u001b[0m\u001b[39;49m A new release of pip is available: \u001b[0m\u001b[31;49m24.0\u001b[0m\u001b[39;49m -> \u001b[0m\u001b[32;49m25.1.1\u001b[0m\n",
      "\u001b[1m[\u001b[0m\u001b[34;49mnotice\u001b[0m\u001b[1;39;49m]\u001b[0m\u001b[39;49m To update, run: \u001b[0m\u001b[32;49mpip install --upgrade pip\u001b[0m\n"
     ]
    }
   ],
   "source": [
    "!pip install scikit-learn\n"
   ]
  },
  {
   "cell_type": "markdown",
   "id": "aa2d3cef",
   "metadata": {},
   "source": [
    "### EQUILIBRIO DE CLASES"
   ]
  },
  {
   "cell_type": "code",
   "execution_count": 23,
   "id": "6f56419c",
   "metadata": {},
   "outputs": [
    {
     "name": "stdout",
     "output_type": "stream",
     "text": [
      "Exited\n",
      "0    0.799733\n",
      "1    0.200267\n",
      "Name: proportion, dtype: float64\n"
     ]
    }
   ],
   "source": [
    "print(target_train.value_counts(normalize=True))\n"
   ]
  },
  {
   "cell_type": "markdown",
   "id": "fd12c132",
   "metadata": {},
   "source": []
  },
  {
   "cell_type": "markdown",
   "id": "e8329914",
   "metadata": {},
   "source": [
    "### MODELO BASE SIN CORREGIR EL DESEQUILIBRIO"
   ]
  },
  {
   "cell_type": "code",
   "execution_count": 24,
   "id": "c91ee254",
   "metadata": {},
   "outputs": [
    {
     "name": "stdout",
     "output_type": "stream",
     "text": [
      "F1 base: 0.5744431418522861\n",
      "AUC-ROC base: 0.8524001807329197\n"
     ]
    }
   ],
   "source": [
    "from sklearn.ensemble import RandomForestClassifier\n",
    "from sklearn.metrics import f1_score, roc_auc_score\n",
    "\n",
    "model_base = RandomForestClassifier(random_state=12345)\n",
    "model_base.fit(features_train, target_train)\n",
    "\n",
    "predicted_test = model_base.predict(features_test)\n",
    "probabilities_test = model_base.predict_proba(features_test)[:, 1]\n",
    "\n",
    "print(\"F1 base:\", f1_score(target_test, predicted_test))\n",
    "print(\"AUC-ROC base:\", roc_auc_score(target_test, probabilities_test))\n"
   ]
  },
  {
   "cell_type": "markdown",
   "id": "5adeac46",
   "metadata": {},
   "source": [
    "### CORRECCIÒN DEL DESEQUILIBRIO (UPSAMPLING)"
   ]
  },
  {
   "cell_type": "code",
   "execution_count": 25,
   "id": "89d842c5",
   "metadata": {},
   "outputs": [
    {
     "name": "stdout",
     "output_type": "stream",
     "text": [
      "F1 con upsampling: 0.6134715025906736\n",
      "AUC-ROC con upsampling: 0.8529756723978027\n"
     ]
    }
   ],
   "source": [
    "from sklearn.utils import shuffle\n",
    "\n",
    "def upsample(features, target, repeat=5):\n",
    "    features_zeros = features[target == 0]\n",
    "    features_ones = features[target == 1]\n",
    "    target_zeros = target[target == 0]\n",
    "    target_ones = target[target == 1]\n",
    "\n",
    "    features_ones_upsampled = pd.concat([features_ones] * repeat)\n",
    "    target_ones_upsampled = pd.concat([target_ones] * repeat)\n",
    "\n",
    "    features_upsampled = pd.concat([features_zeros, features_ones_upsampled])\n",
    "    target_upsampled = pd.concat([target_zeros, target_ones_upsampled])\n",
    "\n",
    "    return shuffle(features_upsampled, target_upsampled, random_state=12345)\n",
    "\n",
    "features_train_up, target_train_up = upsample(features_train, target_train)\n",
    "\n",
    "model_up = RandomForestClassifier(random_state=12345)\n",
    "model_up.fit(features_train_up, target_train_up)\n",
    "\n",
    "pred_up = model_up.predict(features_test)\n",
    "proba_up = model_up.predict_proba(features_test)[:, 1]\n",
    "\n",
    "print(\"F1 con upsampling:\", f1_score(target_test, pred_up))\n",
    "print(\"AUC-ROC con upsampling:\", roc_auc_score(target_test, proba_up))\n"
   ]
  },
  {
   "cell_type": "markdown",
   "id": "bf53253d",
   "metadata": {},
   "source": [
    "### MÈTODO 2: class_weight='balanced'"
   ]
  },
  {
   "cell_type": "code",
   "execution_count": 26,
   "id": "21523e36",
   "metadata": {},
   "outputs": [
    {
     "name": "stdout",
     "output_type": "stream",
     "text": [
      "F1 con ponderación: 0.5641646489104116\n",
      "AUC-ROC con ponderación: 0.8532648450690828\n"
     ]
    }
   ],
   "source": [
    "model_weighted = RandomForestClassifier(class_weight='balanced', random_state=12345)\n",
    "model_weighted.fit(features_train, target_train)\n",
    "\n",
    "pred_weighted = model_weighted.predict(features_test)\n",
    "proba_weighted = model_weighted.predict_proba(features_test)[:, 1]\n",
    "\n",
    "print(\"F1 con ponderación:\", f1_score(target_test, pred_weighted))\n",
    "print(\"AUC-ROC con ponderación:\", roc_auc_score(target_test, proba_weighted))\n"
   ]
  },
  {
   "cell_type": "markdown",
   "id": "90fe0df2",
   "metadata": {},
   "source": [
    "### MEJOR MODELO"
   ]
  },
  {
   "cell_type": "code",
   "execution_count": 27,
   "id": "b58a9dea",
   "metadata": {},
   "outputs": [
    {
     "name": "stdout",
     "output_type": "stream",
     "text": [
      "Mejores parámetros: {'max_depth': 10, 'n_estimators': 100}\n"
     ]
    }
   ],
   "source": [
    "from sklearn.model_selection import GridSearchCV\n",
    "\n",
    "param_grid = {\n",
    "    'n_estimators': [100, 200],\n",
    "    'max_depth': [10, 15],\n",
    "}\n",
    "\n",
    "grid = GridSearchCV(RandomForestClassifier(class_weight='balanced', random_state=12345),\n",
    "                    param_grid, scoring='f1', cv=3)\n",
    "\n",
    "grid.fit(features_train, target_train)\n",
    "\n",
    "print(\"Mejores parámetros:\", grid.best_params_)\n"
   ]
  },
  {
   "cell_type": "markdown",
   "id": "bd567a32",
   "metadata": {},
   "source": [
    "### PRUEBA DEFINITIVA"
   ]
  },
  {
   "cell_type": "code",
   "execution_count": 28,
   "id": "fb833d2d",
   "metadata": {},
   "outputs": [
    {
     "name": "stdout",
     "output_type": "stream",
     "text": [
      "F1 final: 0.64376130198915\n",
      "AUC-ROC final: 0.8654728781717438\n"
     ]
    }
   ],
   "source": [
    "final_model = grid.best_estimator_  # o model_weighted, o model_up\n",
    "pred_final = final_model.predict(features_test)\n",
    "proba_final = final_model.predict_proba(features_test)[:, 1]\n",
    "\n",
    "print(\"F1 final:\", f1_score(target_test, pred_final))\n",
    "print(\"AUC-ROC final:\", roc_auc_score(target_test, proba_final))\n"
   ]
  },
  {
   "cell_type": "markdown",
   "id": "ea14be52",
   "metadata": {},
   "source": [
    "### COMPARACION FINAL"
   ]
  },
  {
   "cell_type": "code",
   "execution_count": 29,
   "id": "e9af1047",
   "metadata": {},
   "outputs": [
    {
     "name": "stdout",
     "output_type": "stream",
     "text": [
      "\n",
      "Reporte final (mejor modelo):\n",
      "              precision    recall  f1-score   support\n",
      "\n",
      "           0       0.86      0.97      0.91      1965\n",
      "           1       0.80      0.44      0.56       535\n",
      "\n",
      "    accuracy                           0.86      2500\n",
      "   macro avg       0.83      0.70      0.74      2500\n",
      "weighted avg       0.85      0.86      0.84      2500\n",
      "\n",
      "\n",
      "Matriz de confusión:\n",
      "[[1907   58]\n",
      " [ 302  233]]\n"
     ]
    }
   ],
   "source": [
    "print(\"\\nReporte final (mejor modelo):\")\n",
    "print(classification_report(target_test, pred_weighted))\n",
    "print(\"\\nMatriz de confusión:\")\n",
    "print(confusion_matrix(target_test, pred_weighted))"
   ]
  },
  {
   "cell_type": "markdown",
   "id": "2c4bf361",
   "metadata": {},
   "source": [
    "## CONCLUSION FINAL DEL PROYECTO\n",
    "#### El modelo final, entrenado con corrección de desequilibrio mediante ponderación de clases (class_weight='balanced'), logró un rendimiento global sólido con una precisión general del 86% y un F1-score ponderado de 0.84.\n",
    "\n",
    "#### Sin embargo, el F1-score para la clase positiva (clientes que abandonan) fue de 0.56, quedando justo por debajo del umbral mínimo de 0.59 requerido. El modelo detecta el 44% de los clientes que realmente abandonan (recall) y acierta en el 80% de los casos cuando predice que alguien se va (precisión).\n",
    "\n",
    "#### La matriz de confusión muestra que 302 clientes que se fueron no fueron detectados (falsos negativos), mientras que 58 fueron clasificados erróneamente como salientes (falsos positivos)."
   ]
  },
  {
   "cell_type": "code",
   "execution_count": null,
   "id": "e48a3deb",
   "metadata": {},
   "outputs": [],
   "source": []
  }
 ],
 "metadata": {
  "kernelspec": {
   "display_name": "Python (vehicles_env)",
   "language": "python",
   "name": "vehicles_env"
  },
  "language_info": {
   "codemirror_mode": {
    "name": "ipython",
    "version": 3
   },
   "file_extension": ".py",
   "mimetype": "text/x-python",
   "name": "python",
   "nbconvert_exporter": "python",
   "pygments_lexer": "ipython3",
   "version": "3.12.4"
  }
 },
 "nbformat": 4,
 "nbformat_minor": 5
}
